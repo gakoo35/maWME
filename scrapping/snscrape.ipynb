{
 "cells": [
  {
   "cell_type": "code",
   "execution_count": 1,
   "metadata": {},
   "outputs": [],
   "source": [
    "!pip3 -qqq install snscrape"
   ]
  },
  {
   "cell_type": "code",
   "execution_count": 1,
   "metadata": {},
   "outputs": [],
   "source": [
    "import snscrape.modules.twitter as snt\n",
    "import pandas as pd"
   ]
  },
  {
   "cell_type": "code",
   "execution_count": 2,
   "metadata": {},
   "outputs": [],
   "source": [
    "easyjet_scraper = snt.TwitterSearchScraper('#Easyjet')"
   ]
  },
  {
   "cell_type": "code",
   "execution_count": 3,
   "metadata": {},
   "outputs": [
    {
     "name": "stderr",
     "output_type": "stream",
     "text": [
      "Error retrieving https://api.twitter.com/2/search/adaptive.json?include_profile_interstitial_type=1&include_blocking=1&include_blocked_by=1&include_followed_by=1&include_want_retweets=1&include_mute_edge=1&include_can_dm=1&include_can_media_tag=1&include_ext_has_nft_avatar=1&include_ext_is_blue_verified=1&include_ext_verified_type=1&skip_status=1&cards_platform=Web-12&include_cards=1&include_ext_alt_text=true&include_ext_limited_action_results=false&include_quote_count=true&include_reply_count=1&tweet_mode=extended&include_ext_collab_control=true&include_ext_views=true&include_entities=true&include_user_entities=true&include_ext_media_color=true&include_ext_media_availability=true&include_ext_sensitive_media_warning=true&include_ext_trusted_friends_metadata=true&send_error_codes=true&simple_quoted_tweet=true&q=%23Easyjet&tweet_search_mode=live&count=20&query_source=spelling_expansion_revert_click&pc=1&spelling_corrections=1&include_ext_edit_control=true&ext=mediaStats%2ChighlightedLabel%2ChasNftAvatar%2CvoiceInfo%2Cenrichments%2CsuperFollowMetadata%2CunmentionInfo%2CeditControl%2Ccollab_control%2Cvibe: blocked (403)\n",
      "4 requests to https://api.twitter.com/2/search/adaptive.json?include_profile_interstitial_type=1&include_blocking=1&include_blocked_by=1&include_followed_by=1&include_want_retweets=1&include_mute_edge=1&include_can_dm=1&include_can_media_tag=1&include_ext_has_nft_avatar=1&include_ext_is_blue_verified=1&include_ext_verified_type=1&skip_status=1&cards_platform=Web-12&include_cards=1&include_ext_alt_text=true&include_ext_limited_action_results=false&include_quote_count=true&include_reply_count=1&tweet_mode=extended&include_ext_collab_control=true&include_ext_views=true&include_entities=true&include_user_entities=true&include_ext_media_color=true&include_ext_media_availability=true&include_ext_sensitive_media_warning=true&include_ext_trusted_friends_metadata=true&send_error_codes=true&simple_quoted_tweet=true&q=%23Easyjet&tweet_search_mode=live&count=20&query_source=spelling_expansion_revert_click&pc=1&spelling_corrections=1&include_ext_edit_control=true&ext=mediaStats%2ChighlightedLabel%2ChasNftAvatar%2CvoiceInfo%2Cenrichments%2CsuperFollowMetadata%2CunmentionInfo%2CeditControl%2Ccollab_control%2Cvibe failed, giving up.\n",
      "Errors: blocked (403), blocked (403), blocked (403), blocked (403)\n"
     ]
    },
    {
     "ename": "ScraperException",
     "evalue": "4 requests to https://api.twitter.com/2/search/adaptive.json?include_profile_interstitial_type=1&include_blocking=1&include_blocked_by=1&include_followed_by=1&include_want_retweets=1&include_mute_edge=1&include_can_dm=1&include_can_media_tag=1&include_ext_has_nft_avatar=1&include_ext_is_blue_verified=1&include_ext_verified_type=1&skip_status=1&cards_platform=Web-12&include_cards=1&include_ext_alt_text=true&include_ext_limited_action_results=false&include_quote_count=true&include_reply_count=1&tweet_mode=extended&include_ext_collab_control=true&include_ext_views=true&include_entities=true&include_user_entities=true&include_ext_media_color=true&include_ext_media_availability=true&include_ext_sensitive_media_warning=true&include_ext_trusted_friends_metadata=true&send_error_codes=true&simple_quoted_tweet=true&q=%23Easyjet&tweet_search_mode=live&count=20&query_source=spelling_expansion_revert_click&pc=1&spelling_corrections=1&include_ext_edit_control=true&ext=mediaStats%2ChighlightedLabel%2ChasNftAvatar%2CvoiceInfo%2Cenrichments%2CsuperFollowMetadata%2CunmentionInfo%2CeditControl%2Ccollab_control%2Cvibe failed, giving up.",
     "output_type": "error",
     "traceback": [
      "\u001b[1;31m---------------------------------------------------------------------------\u001b[0m",
      "\u001b[1;31mScraperException\u001b[0m                          Traceback (most recent call last)",
      "\u001b[1;32mc:\\Users\\gakoo\\Desktop\\git\\ma_wme\\projet\\scrapping\\snscrape.ipynb Cell 4\u001b[0m in \u001b[0;36m<cell line: 1>\u001b[1;34m()\u001b[0m\n\u001b[1;32m----> <a href='vscode-notebook-cell:/c%3A/Users/gakoo/Desktop/git/ma_wme/projet/scrapping/snscrape.ipynb#W3sZmlsZQ%3D%3D?line=0'>1</a>\u001b[0m \u001b[39mfor\u001b[39;00m tweet \u001b[39min\u001b[39;00m easyjet_scraper\u001b[39m.\u001b[39mget_items():\n\u001b[0;32m      <a href='vscode-notebook-cell:/c%3A/Users/gakoo/Desktop/git/ma_wme/projet/scrapping/snscrape.ipynb#W3sZmlsZQ%3D%3D?line=1'>2</a>\u001b[0m     this_tweet \u001b[39m=\u001b[39m tweet\n\u001b[0;32m      <a href='vscode-notebook-cell:/c%3A/Users/gakoo/Desktop/git/ma_wme/projet/scrapping/snscrape.ipynb#W3sZmlsZQ%3D%3D?line=2'>3</a>\u001b[0m     \u001b[39mbreak\u001b[39;00m\n",
      "File \u001b[1;32mc:\\Users\\gakoo\\AppData\\Local\\Programs\\Python\\Python39\\lib\\site-packages\\snscrape\\modules\\twitter.py:1661\u001b[0m, in \u001b[0;36mTwitterSearchScraper.get_items\u001b[1;34m(self)\u001b[0m\n\u001b[0;32m   1658\u001b[0m params \u001b[39m=\u001b[39m paginationParams\u001b[39m.\u001b[39mcopy()\n\u001b[0;32m   1659\u001b[0m \u001b[39mdel\u001b[39;00m params[\u001b[39m'\u001b[39m\u001b[39mcursor\u001b[39m\u001b[39m'\u001b[39m]\n\u001b[1;32m-> 1661\u001b[0m \u001b[39mfor\u001b[39;00m obj \u001b[39min\u001b[39;00m \u001b[39mself\u001b[39m\u001b[39m.\u001b[39m_iter_api_data(\u001b[39m'\u001b[39m\u001b[39mhttps://api.twitter.com/2/search/adaptive.json\u001b[39m\u001b[39m'\u001b[39m, _TwitterAPIType\u001b[39m.\u001b[39mV2, params, paginationParams, cursor \u001b[39m=\u001b[39m \u001b[39mself\u001b[39m\u001b[39m.\u001b[39m_cursor):\n\u001b[0;32m   1662\u001b[0m \t\u001b[39myield from\u001b[39;00m \u001b[39mself\u001b[39m\u001b[39m.\u001b[39m_v2_timeline_instructions_to_tweets_or_users(obj)\n",
      "File \u001b[1;32mc:\\Users\\gakoo\\AppData\\Local\\Programs\\Python\\Python39\\lib\\site-packages\\snscrape\\modules\\twitter.py:761\u001b[0m, in \u001b[0;36m_TwitterAPIScraper._iter_api_data\u001b[1;34m(self, endpoint, apiType, params, paginationParams, cursor, direction)\u001b[0m\n\u001b[0;32m    759\u001b[0m \u001b[39mwhile\u001b[39;00m \u001b[39mTrue\u001b[39;00m:\n\u001b[0;32m    760\u001b[0m \t_logger\u001b[39m.\u001b[39minfo(\u001b[39mf\u001b[39m\u001b[39m'\u001b[39m\u001b[39mRetrieving scroll page \u001b[39m\u001b[39m{\u001b[39;00mcursor\u001b[39m}\u001b[39;00m\u001b[39m'\u001b[39m)\n\u001b[1;32m--> 761\u001b[0m \tobj \u001b[39m=\u001b[39m \u001b[39mself\u001b[39;49m\u001b[39m.\u001b[39;49m_get_api_data(endpoint, apiType, reqParams)\n\u001b[0;32m    762\u001b[0m \t\u001b[39myield\u001b[39;00m obj\n\u001b[0;32m    764\u001b[0m \t\u001b[39m# No data format test, just a hard and loud crash if anything's wrong :-)\u001b[39;00m\n",
      "File \u001b[1;32mc:\\Users\\gakoo\\AppData\\Local\\Programs\\Python\\Python39\\lib\\site-packages\\snscrape\\modules\\twitter.py:727\u001b[0m, in \u001b[0;36m_TwitterAPIScraper._get_api_data\u001b[1;34m(self, endpoint, apiType, params)\u001b[0m\n\u001b[0;32m    725\u001b[0m \u001b[39mif\u001b[39;00m apiType \u001b[39mis\u001b[39;00m _TwitterAPIType\u001b[39m.\u001b[39mGRAPHQL:\n\u001b[0;32m    726\u001b[0m \tparams \u001b[39m=\u001b[39m urllib\u001b[39m.\u001b[39mparse\u001b[39m.\u001b[39murlencode({k: json\u001b[39m.\u001b[39mdumps(v, separators \u001b[39m=\u001b[39m (\u001b[39m'\u001b[39m\u001b[39m,\u001b[39m\u001b[39m'\u001b[39m, \u001b[39m'\u001b[39m\u001b[39m:\u001b[39m\u001b[39m'\u001b[39m)) \u001b[39mfor\u001b[39;00m k, v \u001b[39min\u001b[39;00m params\u001b[39m.\u001b[39mitems()}, quote_via \u001b[39m=\u001b[39m urllib\u001b[39m.\u001b[39mparse\u001b[39m.\u001b[39mquote)\n\u001b[1;32m--> 727\u001b[0m r \u001b[39m=\u001b[39m \u001b[39mself\u001b[39;49m\u001b[39m.\u001b[39;49m_get(endpoint, params \u001b[39m=\u001b[39;49m params, headers \u001b[39m=\u001b[39;49m \u001b[39mself\u001b[39;49m\u001b[39m.\u001b[39;49m_apiHeaders, responseOkCallback \u001b[39m=\u001b[39;49m \u001b[39mself\u001b[39;49m\u001b[39m.\u001b[39;49m_check_api_response)\n\u001b[0;32m    728\u001b[0m \u001b[39mtry\u001b[39;00m:\n\u001b[0;32m    729\u001b[0m \tobj \u001b[39m=\u001b[39m r\u001b[39m.\u001b[39mjson()\n",
      "File \u001b[1;32mc:\\Users\\gakoo\\AppData\\Local\\Programs\\Python\\Python39\\lib\\site-packages\\snscrape\\base.py:251\u001b[0m, in \u001b[0;36mScraper._get\u001b[1;34m(self, *args, **kwargs)\u001b[0m\n\u001b[0;32m    250\u001b[0m \u001b[39mdef\u001b[39;00m \u001b[39m_get\u001b[39m(\u001b[39mself\u001b[39m, \u001b[39m*\u001b[39margs, \u001b[39m*\u001b[39m\u001b[39m*\u001b[39mkwargs):\n\u001b[1;32m--> 251\u001b[0m \t\u001b[39mreturn\u001b[39;00m \u001b[39mself\u001b[39m\u001b[39m.\u001b[39m_request(\u001b[39m'\u001b[39m\u001b[39mGET\u001b[39m\u001b[39m'\u001b[39m, \u001b[39m*\u001b[39margs, \u001b[39m*\u001b[39m\u001b[39m*\u001b[39mkwargs)\n",
      "File \u001b[1;32mc:\\Users\\gakoo\\AppData\\Local\\Programs\\Python\\Python39\\lib\\site-packages\\snscrape\\base.py:247\u001b[0m, in \u001b[0;36mScraper._request\u001b[1;34m(self, method, url, params, data, headers, timeout, responseOkCallback, allowRedirects, proxies)\u001b[0m\n\u001b[0;32m    245\u001b[0m \t_logger\u001b[39m.\u001b[39mfatal(msg)\n\u001b[0;32m    246\u001b[0m \t_logger\u001b[39m.\u001b[39mfatal(\u001b[39mf\u001b[39m\u001b[39m'\u001b[39m\u001b[39mErrors: \u001b[39m\u001b[39m{\u001b[39;00m\u001b[39m\"\u001b[39m\u001b[39m, \u001b[39m\u001b[39m\"\u001b[39m\u001b[39m.\u001b[39mjoin(errors)\u001b[39m}\u001b[39;00m\u001b[39m'\u001b[39m)\n\u001b[1;32m--> 247\u001b[0m \t\u001b[39mraise\u001b[39;00m ScraperException(msg)\n\u001b[0;32m    248\u001b[0m \u001b[39mraise\u001b[39;00m \u001b[39mRuntimeError\u001b[39;00m(\u001b[39m'\u001b[39m\u001b[39mReached unreachable code\u001b[39m\u001b[39m'\u001b[39m)\n",
      "\u001b[1;31mScraperException\u001b[0m: 4 requests to https://api.twitter.com/2/search/adaptive.json?include_profile_interstitial_type=1&include_blocking=1&include_blocked_by=1&include_followed_by=1&include_want_retweets=1&include_mute_edge=1&include_can_dm=1&include_can_media_tag=1&include_ext_has_nft_avatar=1&include_ext_is_blue_verified=1&include_ext_verified_type=1&skip_status=1&cards_platform=Web-12&include_cards=1&include_ext_alt_text=true&include_ext_limited_action_results=false&include_quote_count=true&include_reply_count=1&tweet_mode=extended&include_ext_collab_control=true&include_ext_views=true&include_entities=true&include_user_entities=true&include_ext_media_color=true&include_ext_media_availability=true&include_ext_sensitive_media_warning=true&include_ext_trusted_friends_metadata=true&send_error_codes=true&simple_quoted_tweet=true&q=%23Easyjet&tweet_search_mode=live&count=20&query_source=spelling_expansion_revert_click&pc=1&spelling_corrections=1&include_ext_edit_control=true&ext=mediaStats%2ChighlightedLabel%2ChasNftAvatar%2CvoiceInfo%2Cenrichments%2CsuperFollowMetadata%2CunmentionInfo%2CeditControl%2Ccollab_control%2Cvibe failed, giving up."
     ]
    }
   ],
   "source": [
    "for tweet in easyjet_scraper.get_items():\n",
    "    this_tweet = tweet\n",
    "    break"
   ]
  },
  {
   "cell_type": "code",
   "execution_count": 4,
   "metadata": {},
   "outputs": [
    {
     "data": {
      "text/plain": [
       "Tweet(url='https://twitter.com/idealoReise/status/1636664107939004417', date=datetime.datetime(2023, 3, 17, 9, 41, 45, tzinfo=datetime.timezone.utc), rawContent='Awesome Price! 🤩💰 London Gatwick - Santorini return flights with easyJet, between May and July, prices from £86: https://t.co/E0PTgqtUOC ✈🏝\\n\\n#London #Santorin #easyJet #Greece #cheapflight #flightdeal #SuperHotDeal #vacation #cheaptravel #cheapflights #holidays #traveldeal https://t.co/AuOP4ePFNB', renderedContent='Awesome Price! 🤩💰 London Gatwick - Santorini return flights with easyJet, between May and July, prices from £86: flights-idealo.co.uk/route/London-G… ✈🏝\\n\\n#London #Santorin #easyJet #Greece #cheapflight #flightdeal #SuperHotDeal #vacation #cheaptravel #cheapflights #holidays #traveldeal https://t.co/AuOP4ePFNB', id=1636664107939004417, user=User(username='idealoReise', id=4876820795, displayname='idealo Reise', rawDescription='Der idealo Reise-Preisvergleich findet günstige Flüge, Hotels, Reiseangebote und Inspirationen für Euren nächsten Urlaub. Impressum: https://t.co/c68a6rcu4h', renderedDescription='Der idealo Reise-Preisvergleich findet günstige Flüge, Hotels, Reiseangebote und Inspirationen für Euren nächsten Urlaub. Impressum: flug.idealo.de/AGB/', descriptionLinks=[TextLink(text='flug.idealo.de/AGB/', url='http://flug.idealo.de/AGB/', tcourl='https://t.co/c68a6rcu4h', indices=(133, 156))], verified=False, created=datetime.datetime(2016, 2, 4, 17, 7, 11, tzinfo=datetime.timezone.utc), followersCount=93, friendsCount=28, statusesCount=1070, favouritesCount=18, listedCount=10, mediaCount=786, location='Deutschland', protected=False, link=TextLink(text='reise.idealo.de', url='https://reise.idealo.de/', tcourl='https://t.co/Lnc2yxLUAm', indices=(0, 23)), profileImageUrl='https://pbs.twimg.com/profile_images/703261030613389312/9yAseVIG_normal.jpg', profileBannerUrl='https://pbs.twimg.com/profile_banners/4876820795/1678188821', label=None), replyCount=0, retweetCount=0, likeCount=0, quoteCount=0, conversationId=1636664107939004417, lang='en', source='<a href=\"https://mobile.twitter.com\" rel=\"nofollow\">Twitter Web App</a>', sourceUrl='https://mobile.twitter.com', sourceLabel='Twitter Web App', links=[TextLink(text='flights-idealo.co.uk/route/London-G…', url='https://www.flights-idealo.co.uk/route/London-Gatwick-LGW/Santorini-JTR/#tinyId=mjs04', tcourl='https://t.co/E0PTgqtUOC', indices=(113, 136))], media=[Photo(previewUrl='https://pbs.twimg.com/media/FraZTD1WYAIWYxg?format=jpg&name=small', fullUrl='https://pbs.twimg.com/media/FraZTD1WYAIWYxg?format=jpg&name=orig', altText=None)], retweetedTweet=None, quotedTweet=None, inReplyToTweetId=None, inReplyToUser=None, mentionedUsers=None, coordinates=None, place=None, hashtags=['London', 'Santorin', 'easyJet', 'Greece', 'cheapflight', 'flightdeal', 'SuperHotDeal', 'vacation', 'cheaptravel', 'cheapflights', 'holidays', 'traveldeal'], cashtags=None, card=None, viewCount=6, vibe=None)"
      ]
     },
     "execution_count": 4,
     "metadata": {},
     "output_type": "execute_result"
    }
   ],
   "source": [
    "this_tweet"
   ]
  },
  {
   "cell_type": "code",
   "execution_count": 5,
   "metadata": {},
   "outputs": [],
   "source": [
    "column_names = ['url', 'date', 'content', 'likeCount', 'tweet', 'username', 'description', 'followersCount', 'friendsCount'] "
   ]
  },
  {
   "cell_type": "code",
   "execution_count": 6,
   "metadata": {},
   "outputs": [],
   "source": [
    "def grab_tweets(total_number):\n",
    "\n",
    "    final_tweets = []\n",
    "\n",
    "    for index, tweet in enumerate(easyjet_scraper.get_items()):\n",
    "        \n",
    "        user = tweet.user\n",
    "\n",
    "        tweet_data = [tweet.url,\n",
    "                      tweet.date,\n",
    "                      tweet.rawContent,\n",
    "                      tweet.likeCount,\n",
    "                      tweet.retweetCount,\n",
    "                      user.username,\n",
    "                      user.description,\n",
    "                      user.followersCount,\n",
    "                      user.friendsCount,\n",
    "                      ]\n",
    "        \n",
    "        final_tweets.append(tweet_data)\n",
    "\n",
    "        if(index == total_number):\n",
    "            break\n",
    "\n",
    "    # create dataframe\n",
    "    final_tweets_df = pd.DataFrame(final_tweets, columns = column_names)\n",
    "\n",
    "    return final_tweets_df"
   ]
  },
  {
   "attachments": {},
   "cell_type": "markdown",
   "metadata": {},
   "source": [
    "# Get initial data"
   ]
  },
  {
   "cell_type": "code",
   "execution_count": 7,
   "metadata": {},
   "outputs": [
    {
     "name": "stderr",
     "output_type": "stream",
     "text": [
      "C:\\Users\\gakoo\\AppData\\Local\\Temp/ipykernel_2764/800724868.py:15: DeprecatedFeatureWarning: description is deprecated, use renderedDescription instead\n",
      "  user.description,\n"
     ]
    }
   ],
   "source": [
    "final_tweets_df = grab_tweets(10000)"
   ]
  },
  {
   "cell_type": "code",
   "execution_count": 17,
   "metadata": {},
   "outputs": [
    {
     "data": {
      "text/plain": [
       "(1001, 9)"
      ]
     },
     "execution_count": 17,
     "metadata": {},
     "output_type": "execute_result"
    }
   ],
   "source": [
    "final_tweets_df.shape"
   ]
  },
  {
   "cell_type": "code",
   "execution_count": 18,
   "metadata": {},
   "outputs": [
    {
     "data": {
      "text/html": [
       "<div>\n",
       "<style scoped>\n",
       "    .dataframe tbody tr th:only-of-type {\n",
       "        vertical-align: middle;\n",
       "    }\n",
       "\n",
       "    .dataframe tbody tr th {\n",
       "        vertical-align: top;\n",
       "    }\n",
       "\n",
       "    .dataframe thead th {\n",
       "        text-align: right;\n",
       "    }\n",
       "</style>\n",
       "<table border=\"1\" class=\"dataframe\">\n",
       "  <thead>\n",
       "    <tr style=\"text-align: right;\">\n",
       "      <th></th>\n",
       "      <th>url</th>\n",
       "      <th>date</th>\n",
       "      <th>content</th>\n",
       "      <th>likeCount</th>\n",
       "      <th>tweet</th>\n",
       "      <th>username</th>\n",
       "      <th>description</th>\n",
       "      <th>followersCount</th>\n",
       "      <th>friendsCount</th>\n",
       "    </tr>\n",
       "  </thead>\n",
       "  <tbody>\n",
       "    <tr>\n",
       "      <th>0</th>\n",
       "      <td>https://twitter.com/transportgids/status/16366...</td>\n",
       "      <td>2023-03-17 09:07:07+00:00</td>\n",
       "      <td>Vakbond FNV gaat toch niet staken bij #easyJet...</td>\n",
       "      <td>0</td>\n",
       "      <td>0</td>\n",
       "      <td>transportgids</td>\n",
       "      <td>Kijk voor actueel transportnieuws, wetenswaard...</td>\n",
       "      <td>15804</td>\n",
       "      <td>11871</td>\n",
       "    </tr>\n",
       "    <tr>\n",
       "      <th>1</th>\n",
       "      <td>https://twitter.com/ClaimDelay/status/16366544...</td>\n",
       "      <td>2023-03-17 09:03:31+00:00</td>\n",
       "      <td>easyJet CANCELLED again! Were you on flight U2...</td>\n",
       "      <td>0</td>\n",
       "      <td>0</td>\n",
       "      <td>ClaimDelay</td>\n",
       "      <td>Flight Delay Claim will be patrolling the skie...</td>\n",
       "      <td>1668</td>\n",
       "      <td>92</td>\n",
       "    </tr>\n",
       "    <tr>\n",
       "      <th>2</th>\n",
       "      <td>https://twitter.com/ClaimDelay/status/16366544...</td>\n",
       "      <td>2023-03-17 09:03:31+00:00</td>\n",
       "      <td>easyJet CANCELLED. Were you on flight U28800 (...</td>\n",
       "      <td>0</td>\n",
       "      <td>0</td>\n",
       "      <td>ClaimDelay</td>\n",
       "      <td>Flight Delay Claim will be patrolling the skie...</td>\n",
       "      <td>1668</td>\n",
       "      <td>92</td>\n",
       "    </tr>\n",
       "    <tr>\n",
       "      <th>3</th>\n",
       "      <td>https://twitter.com/ClaimDelay/status/16366544...</td>\n",
       "      <td>2023-03-17 09:03:30+00:00</td>\n",
       "      <td>Did you fly with easyJet? Were you on flight U...</td>\n",
       "      <td>0</td>\n",
       "      <td>0</td>\n",
       "      <td>ClaimDelay</td>\n",
       "      <td>Flight Delay Claim will be patrolling the skie...</td>\n",
       "      <td>1668</td>\n",
       "      <td>92</td>\n",
       "    </tr>\n",
       "    <tr>\n",
       "      <th>4</th>\n",
       "      <td>https://twitter.com/ClaimDelay/status/16366544...</td>\n",
       "      <td>2023-03-17 09:03:30+00:00</td>\n",
       "      <td>New easyJet delay. Were you on flight U2855 (E...</td>\n",
       "      <td>0</td>\n",
       "      <td>0</td>\n",
       "      <td>ClaimDelay</td>\n",
       "      <td>Flight Delay Claim will be patrolling the skie...</td>\n",
       "      <td>1668</td>\n",
       "      <td>92</td>\n",
       "    </tr>\n",
       "  </tbody>\n",
       "</table>\n",
       "</div>"
      ],
      "text/plain": [
       "                                                 url  \\\n",
       "0  https://twitter.com/transportgids/status/16366...   \n",
       "1  https://twitter.com/ClaimDelay/status/16366544...   \n",
       "2  https://twitter.com/ClaimDelay/status/16366544...   \n",
       "3  https://twitter.com/ClaimDelay/status/16366544...   \n",
       "4  https://twitter.com/ClaimDelay/status/16366544...   \n",
       "\n",
       "                       date  \\\n",
       "0 2023-03-17 09:07:07+00:00   \n",
       "1 2023-03-17 09:03:31+00:00   \n",
       "2 2023-03-17 09:03:31+00:00   \n",
       "3 2023-03-17 09:03:30+00:00   \n",
       "4 2023-03-17 09:03:30+00:00   \n",
       "\n",
       "                                             content  likeCount  tweet  \\\n",
       "0  Vakbond FNV gaat toch niet staken bij #easyJet...          0      0   \n",
       "1  easyJet CANCELLED again! Were you on flight U2...          0      0   \n",
       "2  easyJet CANCELLED. Were you on flight U28800 (...          0      0   \n",
       "3  Did you fly with easyJet? Were you on flight U...          0      0   \n",
       "4  New easyJet delay. Were you on flight U2855 (E...          0      0   \n",
       "\n",
       "        username                                        description  \\\n",
       "0  transportgids  Kijk voor actueel transportnieuws, wetenswaard...   \n",
       "1     ClaimDelay  Flight Delay Claim will be patrolling the skie...   \n",
       "2     ClaimDelay  Flight Delay Claim will be patrolling the skie...   \n",
       "3     ClaimDelay  Flight Delay Claim will be patrolling the skie...   \n",
       "4     ClaimDelay  Flight Delay Claim will be patrolling the skie...   \n",
       "\n",
       "   followersCount  friendsCount  \n",
       "0           15804         11871  \n",
       "1            1668            92  \n",
       "2            1668            92  \n",
       "3            1668            92  \n",
       "4            1668            92  "
      ]
     },
     "execution_count": 18,
     "metadata": {},
     "output_type": "execute_result"
    }
   ],
   "source": [
    "final_tweets_df.head()"
   ]
  },
  {
   "cell_type": "code",
   "execution_count": 24,
   "metadata": {},
   "outputs": [
    {
     "data": {
      "text/plain": [
       "'👀✈️🔊\\nG-UZHJ \\n#EZY576V \\n#easyJet \\n#United Kingdom\\n#Airbus A320 251NSL \\n#easyJet\\n#407569\\nAlt 17000ft\\n #407569  \\nSeen 520 Times\\n#ScotRadar\\n\\nhttps://t.co/rSKT3nqimH'"
      ]
     },
     "execution_count": 24,
     "metadata": {},
     "output_type": "execute_result"
    }
   ],
   "source": [
    "final_tweets_df['content'][10] #what we want --> the content"
   ]
  },
  {
   "cell_type": "code",
   "execution_count": 25,
   "metadata": {},
   "outputs": [
    {
     "data": {
      "text/plain": [
       "'🤖 🏴\\U000e0067\\U000e0062\\U000e0073\\U000e0063\\U000e0074\\U000e007f 🔴🔴. 📰📺📻…Journalist? ➡️CREDIT @centralspotter 🔴🔴'"
      ]
     },
     "execution_count": 25,
     "metadata": {},
     "output_type": "execute_result"
    }
   ],
   "source": [
    "final_tweets_df['description'][10] # not what we want"
   ]
  },
  {
   "cell_type": "code",
   "execution_count": 26,
   "metadata": {},
   "outputs": [
    {
     "data": {
      "text/plain": [
       "'https://twitter.com/centralspotter/status/1636491947664605187'"
      ]
     },
     "execution_count": 26,
     "metadata": {},
     "output_type": "execute_result"
    }
   ],
   "source": [
    "final_tweets_df['url'][10]"
   ]
  },
  {
   "attachments": {},
   "cell_type": "markdown",
   "metadata": {},
   "source": [
    "# Remove unwanted tweets"
   ]
  },
  {
   "cell_type": "code",
   "execution_count": 8,
   "metadata": {},
   "outputs": [
    {
     "data": {
      "text/plain": [
       "centralspotter     8125\n",
       "ClaimDelay          473\n",
       "Monde_du_Voyage     153\n",
       "LFPG_info            62\n",
       "mi6o25               41\n",
       "                   ... \n",
       "AirbusRed             1\n",
       "NAJIALIKhaN           1\n",
       "TheHouseofUp          1\n",
       "REME6749              1\n",
       "CrewBoss9             1\n",
       "Name: username, Length: 748, dtype: int64"
      ]
     },
     "execution_count": 8,
     "metadata": {},
     "output_type": "execute_result"
    }
   ],
   "source": [
    "# get tweet count per users\n",
    "final_tweets_df['username'].value_counts()"
   ]
  },
  {
   "cell_type": "code",
   "execution_count": 9,
   "metadata": {},
   "outputs": [
    {
     "name": "stdout",
     "output_type": "stream",
     "text": [
      "(1188, 9)\n"
     ]
    }
   ],
   "source": [
    "# delete unwanted tweets from useless account\n",
    "final_tweets_df = final_tweets_df.drop(final_tweets_df[final_tweets_df['username'] == 'centralspotter'].index)\n",
    "final_tweets_df = final_tweets_df.drop(final_tweets_df[final_tweets_df['username'] == 'ClaimDelay'].index)\n",
    "final_tweets_df = final_tweets_df.drop(final_tweets_df[final_tweets_df['username'] == 'LFPG_info'].index)\n",
    "final_tweets_df = final_tweets_df.drop(final_tweets_df[final_tweets_df['username'] == 'Monde_du_Voyage'].index)\n",
    "\n",
    "print(final_tweets_df.shape)"
   ]
  }
 ],
 "metadata": {
  "kernelspec": {
   "display_name": "base",
   "language": "python",
   "name": "python3"
  },
  "language_info": {
   "codemirror_mode": {
    "name": "ipython",
    "version": 3
   },
   "file_extension": ".py",
   "mimetype": "text/x-python",
   "name": "python",
   "nbconvert_exporter": "python",
   "pygments_lexer": "ipython3",
   "version": "3.9.8"
  },
  "orig_nbformat": 4
 },
 "nbformat": 4,
 "nbformat_minor": 2
}
