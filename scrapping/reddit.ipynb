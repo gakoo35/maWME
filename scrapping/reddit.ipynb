{
 "cells": [
  {
   "cell_type": "code",
   "execution_count": 1,
   "metadata": {},
   "outputs": [],
   "source": [
    "import pandas as pd\n",
    "import datetime as dt\n",
    "import requests\n",
    "import time\n",
    "import numpy as np\n",
    "import emoji"
   ]
  },
  {
   "attachments": {},
   "cell_type": "markdown",
   "metadata": {},
   "source": [
    "# Kaggle"
   ]
  },
  {
   "cell_type": "code",
   "execution_count": 2,
   "metadata": {},
   "outputs": [
    {
     "name": "stdout",
     "output_type": "stream",
     "text": [
      "(14640, 15)\n"
     ]
    },
    {
     "data": {
      "text/html": [
       "<div>\n",
       "<style scoped>\n",
       "    .dataframe tbody tr th:only-of-type {\n",
       "        vertical-align: middle;\n",
       "    }\n",
       "\n",
       "    .dataframe tbody tr th {\n",
       "        vertical-align: top;\n",
       "    }\n",
       "\n",
       "    .dataframe thead th {\n",
       "        text-align: right;\n",
       "    }\n",
       "</style>\n",
       "<table border=\"1\" class=\"dataframe\">\n",
       "  <thead>\n",
       "    <tr style=\"text-align: right;\">\n",
       "      <th></th>\n",
       "      <th>tweet_id</th>\n",
       "      <th>airline_sentiment</th>\n",
       "      <th>airline_sentiment_confidence</th>\n",
       "      <th>negativereason</th>\n",
       "      <th>negativereason_confidence</th>\n",
       "      <th>airline</th>\n",
       "      <th>airline_sentiment_gold</th>\n",
       "      <th>name</th>\n",
       "      <th>negativereason_gold</th>\n",
       "      <th>retweet_count</th>\n",
       "      <th>text</th>\n",
       "      <th>tweet_coord</th>\n",
       "      <th>tweet_created</th>\n",
       "      <th>tweet_location</th>\n",
       "      <th>user_timezone</th>\n",
       "    </tr>\n",
       "  </thead>\n",
       "  <tbody>\n",
       "    <tr>\n",
       "      <th>0</th>\n",
       "      <td>570306133677760513</td>\n",
       "      <td>neutral</td>\n",
       "      <td>1.0000</td>\n",
       "      <td>NaN</td>\n",
       "      <td>NaN</td>\n",
       "      <td>Virgin America</td>\n",
       "      <td>NaN</td>\n",
       "      <td>cairdin</td>\n",
       "      <td>NaN</td>\n",
       "      <td>0</td>\n",
       "      <td>@VirginAmerica What @dhepburn said.</td>\n",
       "      <td>NaN</td>\n",
       "      <td>2015-02-24 11:35:52 -0800</td>\n",
       "      <td>NaN</td>\n",
       "      <td>Eastern Time (US &amp; Canada)</td>\n",
       "    </tr>\n",
       "    <tr>\n",
       "      <th>1</th>\n",
       "      <td>570301130888122368</td>\n",
       "      <td>positive</td>\n",
       "      <td>0.3486</td>\n",
       "      <td>NaN</td>\n",
       "      <td>0.0000</td>\n",
       "      <td>Virgin America</td>\n",
       "      <td>NaN</td>\n",
       "      <td>jnardino</td>\n",
       "      <td>NaN</td>\n",
       "      <td>0</td>\n",
       "      <td>@VirginAmerica plus you've added commercials t...</td>\n",
       "      <td>NaN</td>\n",
       "      <td>2015-02-24 11:15:59 -0800</td>\n",
       "      <td>NaN</td>\n",
       "      <td>Pacific Time (US &amp; Canada)</td>\n",
       "    </tr>\n",
       "    <tr>\n",
       "      <th>2</th>\n",
       "      <td>570301083672813571</td>\n",
       "      <td>neutral</td>\n",
       "      <td>0.6837</td>\n",
       "      <td>NaN</td>\n",
       "      <td>NaN</td>\n",
       "      <td>Virgin America</td>\n",
       "      <td>NaN</td>\n",
       "      <td>yvonnalynn</td>\n",
       "      <td>NaN</td>\n",
       "      <td>0</td>\n",
       "      <td>@VirginAmerica I didn't today... Must mean I n...</td>\n",
       "      <td>NaN</td>\n",
       "      <td>2015-02-24 11:15:48 -0800</td>\n",
       "      <td>Lets Play</td>\n",
       "      <td>Central Time (US &amp; Canada)</td>\n",
       "    </tr>\n",
       "    <tr>\n",
       "      <th>3</th>\n",
       "      <td>570301031407624196</td>\n",
       "      <td>negative</td>\n",
       "      <td>1.0000</td>\n",
       "      <td>Bad Flight</td>\n",
       "      <td>0.7033</td>\n",
       "      <td>Virgin America</td>\n",
       "      <td>NaN</td>\n",
       "      <td>jnardino</td>\n",
       "      <td>NaN</td>\n",
       "      <td>0</td>\n",
       "      <td>@VirginAmerica it's really aggressive to blast...</td>\n",
       "      <td>NaN</td>\n",
       "      <td>2015-02-24 11:15:36 -0800</td>\n",
       "      <td>NaN</td>\n",
       "      <td>Pacific Time (US &amp; Canada)</td>\n",
       "    </tr>\n",
       "    <tr>\n",
       "      <th>4</th>\n",
       "      <td>570300817074462722</td>\n",
       "      <td>negative</td>\n",
       "      <td>1.0000</td>\n",
       "      <td>Can't Tell</td>\n",
       "      <td>1.0000</td>\n",
       "      <td>Virgin America</td>\n",
       "      <td>NaN</td>\n",
       "      <td>jnardino</td>\n",
       "      <td>NaN</td>\n",
       "      <td>0</td>\n",
       "      <td>@VirginAmerica and it's a really big bad thing...</td>\n",
       "      <td>NaN</td>\n",
       "      <td>2015-02-24 11:14:45 -0800</td>\n",
       "      <td>NaN</td>\n",
       "      <td>Pacific Time (US &amp; Canada)</td>\n",
       "    </tr>\n",
       "  </tbody>\n",
       "</table>\n",
       "</div>"
      ],
      "text/plain": [
       "             tweet_id airline_sentiment  airline_sentiment_confidence  \\\n",
       "0  570306133677760513           neutral                        1.0000   \n",
       "1  570301130888122368          positive                        0.3486   \n",
       "2  570301083672813571           neutral                        0.6837   \n",
       "3  570301031407624196          negative                        1.0000   \n",
       "4  570300817074462722          negative                        1.0000   \n",
       "\n",
       "  negativereason  negativereason_confidence         airline  \\\n",
       "0            NaN                        NaN  Virgin America   \n",
       "1            NaN                     0.0000  Virgin America   \n",
       "2            NaN                        NaN  Virgin America   \n",
       "3     Bad Flight                     0.7033  Virgin America   \n",
       "4     Can't Tell                     1.0000  Virgin America   \n",
       "\n",
       "  airline_sentiment_gold        name negativereason_gold  retweet_count  \\\n",
       "0                    NaN     cairdin                 NaN              0   \n",
       "1                    NaN    jnardino                 NaN              0   \n",
       "2                    NaN  yvonnalynn                 NaN              0   \n",
       "3                    NaN    jnardino                 NaN              0   \n",
       "4                    NaN    jnardino                 NaN              0   \n",
       "\n",
       "                                                text tweet_coord  \\\n",
       "0                @VirginAmerica What @dhepburn said.         NaN   \n",
       "1  @VirginAmerica plus you've added commercials t...         NaN   \n",
       "2  @VirginAmerica I didn't today... Must mean I n...         NaN   \n",
       "3  @VirginAmerica it's really aggressive to blast...         NaN   \n",
       "4  @VirginAmerica and it's a really big bad thing...         NaN   \n",
       "\n",
       "               tweet_created tweet_location               user_timezone  \n",
       "0  2015-02-24 11:35:52 -0800            NaN  Eastern Time (US & Canada)  \n",
       "1  2015-02-24 11:15:59 -0800            NaN  Pacific Time (US & Canada)  \n",
       "2  2015-02-24 11:15:48 -0800      Lets Play  Central Time (US & Canada)  \n",
       "3  2015-02-24 11:15:36 -0800            NaN  Pacific Time (US & Canada)  \n",
       "4  2015-02-24 11:14:45 -0800            NaN  Pacific Time (US & Canada)  "
      ]
     },
     "execution_count": 2,
     "metadata": {},
     "output_type": "execute_result"
    }
   ],
   "source": [
    "df = pd.read_csv('Tweets.csv')\n",
    "print(df.shape)\n",
    "df.head()"
   ]
  },
  {
   "cell_type": "code",
   "execution_count": 3,
   "metadata": {},
   "outputs": [
    {
     "name": "stdout",
     "output_type": "stream",
     "text": [
      "tweet_id  :  570301031407624196\n",
      "airline_sentiment  :  negative\n",
      "airline_sentiment_confidence  :  1.0\n",
      "negativereason  :  Bad Flight\n",
      "negativereason_confidence  :  0.7033\n",
      "airline  :  Virgin America\n",
      "airline_sentiment_gold  :  nan\n",
      "name  :  jnardino\n",
      "negativereason_gold  :  nan\n",
      "retweet_count  :  0\n",
      "text  :  @VirginAmerica it's really aggressive to blast obnoxious \"entertainment\" in your guests' faces &amp; they have little recourse\n",
      "tweet_coord  :  nan\n",
      "tweet_created  :  2015-02-24 11:15:36 -0800\n",
      "tweet_location  :  nan\n",
      "user_timezone  :  Pacific Time (US & Canada)\n"
     ]
    }
   ],
   "source": [
    "df.values[0]\n",
    "\n",
    "for i in range(len(df.columns)):\n",
    "    print(df.columns[i], ' : ', df.values[3][i])"
   ]
  },
  {
   "cell_type": "code",
   "execution_count": 4,
   "metadata": {},
   "outputs": [
    {
     "data": {
      "text/plain": [
       "(14640, 15)"
      ]
     },
     "execution_count": 4,
     "metadata": {},
     "output_type": "execute_result"
    }
   ],
   "source": [
    "df.shape"
   ]
  },
  {
   "cell_type": "code",
   "execution_count": 5,
   "metadata": {},
   "outputs": [
    {
     "data": {
      "text/html": [
       "<div>\n",
       "<style scoped>\n",
       "    .dataframe tbody tr th:only-of-type {\n",
       "        vertical-align: middle;\n",
       "    }\n",
       "\n",
       "    .dataframe tbody tr th {\n",
       "        vertical-align: top;\n",
       "    }\n",
       "\n",
       "    .dataframe thead th {\n",
       "        text-align: right;\n",
       "    }\n",
       "</style>\n",
       "<table border=\"1\" class=\"dataframe\">\n",
       "  <thead>\n",
       "    <tr style=\"text-align: right;\">\n",
       "      <th></th>\n",
       "      <th>airline_sentiment</th>\n",
       "      <th>airline</th>\n",
       "      <th>name</th>\n",
       "      <th>text</th>\n",
       "      <th>tweet_created</th>\n",
       "    </tr>\n",
       "  </thead>\n",
       "  <tbody>\n",
       "    <tr>\n",
       "      <th>0</th>\n",
       "      <td>neutral</td>\n",
       "      <td>Virgin America</td>\n",
       "      <td>cairdin</td>\n",
       "      <td>@VirginAmerica What @dhepburn said.</td>\n",
       "      <td>2015-02-24 11:35:52 -0800</td>\n",
       "    </tr>\n",
       "  </tbody>\n",
       "</table>\n",
       "</div>"
      ],
      "text/plain": [
       "  airline_sentiment         airline     name  \\\n",
       "0           neutral  Virgin America  cairdin   \n",
       "\n",
       "                                  text              tweet_created  \n",
       "0  @VirginAmerica What @dhepburn said.  2015-02-24 11:35:52 -0800  "
      ]
     },
     "execution_count": 5,
     "metadata": {},
     "output_type": "execute_result"
    }
   ],
   "source": [
    "# let's drop unwanted columns\n",
    "df = df.drop(['tweet_id', 'airline_sentiment_confidence', 'negativereason', 'negativereason_confidence', 'airline_sentiment_gold', \n",
    "'negativereason_gold', 'retweet_count', 'tweet_coord', 'tweet_location', 'user_timezone'], axis=1)\n",
    "df.head(1)"
   ]
  },
  {
   "cell_type": "code",
   "execution_count": 6,
   "metadata": {},
   "outputs": [
    {
     "data": {
      "text/plain": [
       "(0    2015-02-24\n",
       " 1    2015-02-24\n",
       " 2    2015-02-24\n",
       " 3    2015-02-24\n",
       " 4    2015-02-24\n",
       " Name: date, dtype: object,\n",
       " '2015-02-24',\n",
       " '2015-02-16')"
      ]
     },
     "execution_count": 6,
     "metadata": {},
     "output_type": "execute_result"
    }
   ],
   "source": [
    "df[\"date\"] = pd.to_datetime(df[\"tweet_created\"])\n",
    "df[\"date\"] = df[\"date\"].dt.strftime('%Y-%m-%d')\n",
    "df[\"date\"].head(), df[\"date\"].max(), df[\"date\"].min()"
   ]
  },
  {
   "cell_type": "code",
   "execution_count": 7,
   "metadata": {},
   "outputs": [
    {
     "data": {
      "text/html": [
       "<div>\n",
       "<style scoped>\n",
       "    .dataframe tbody tr th:only-of-type {\n",
       "        vertical-align: middle;\n",
       "    }\n",
       "\n",
       "    .dataframe tbody tr th {\n",
       "        vertical-align: top;\n",
       "    }\n",
       "\n",
       "    .dataframe thead th {\n",
       "        text-align: right;\n",
       "    }\n",
       "</style>\n",
       "<table border=\"1\" class=\"dataframe\">\n",
       "  <thead>\n",
       "    <tr style=\"text-align: right;\">\n",
       "      <th></th>\n",
       "      <th>airline_sentiment</th>\n",
       "      <th>airline</th>\n",
       "      <th>name</th>\n",
       "      <th>text</th>\n",
       "      <th>date</th>\n",
       "    </tr>\n",
       "  </thead>\n",
       "  <tbody>\n",
       "    <tr>\n",
       "      <th>0</th>\n",
       "      <td>neutral</td>\n",
       "      <td>Virgin America</td>\n",
       "      <td>cairdin</td>\n",
       "      <td>@VirginAmerica What @dhepburn said.</td>\n",
       "      <td>2015-02-24</td>\n",
       "    </tr>\n",
       "  </tbody>\n",
       "</table>\n",
       "</div>"
      ],
      "text/plain": [
       "  airline_sentiment         airline     name  \\\n",
       "0           neutral  Virgin America  cairdin   \n",
       "\n",
       "                                  text        date  \n",
       "0  @VirginAmerica What @dhepburn said.  2015-02-24  "
      ]
     },
     "execution_count": 7,
     "metadata": {},
     "output_type": "execute_result"
    }
   ],
   "source": [
    "df = df.drop(['tweet_created'], axis=1)\n",
    "df.head(1)"
   ]
  },
  {
   "cell_type": "code",
   "execution_count": 8,
   "metadata": {},
   "outputs": [
    {
     "data": {
      "text/plain": [
       "{'American': 2759,\n",
       " 'Delta': 2222,\n",
       " 'Southwest': 2420,\n",
       " 'US Airways': 2913,\n",
       " 'United': 3822,\n",
       " 'Virgin America': 504}"
      ]
     },
     "execution_count": 8,
     "metadata": {},
     "output_type": "execute_result"
    }
   ],
   "source": [
    "unique, counts = np.unique(df['airline'], return_counts=True)\n",
    "\n",
    "dict(zip(unique, counts))"
   ]
  },
  {
   "cell_type": "code",
   "execution_count": 9,
   "metadata": {},
   "outputs": [
    {
     "data": {
      "text/plain": [
       "{'American': 2759, 'Delta': 2222, 'Southwest': 2420, 'United': 3822}"
      ]
     },
     "execution_count": 9,
     "metadata": {},
     "output_type": "execute_result"
    }
   ],
   "source": [
    "df = df.drop(df[(df['airline'] == 'US Airways') | (df['airline'] == 'Virgin America')].index)\n",
    "unique, counts = np.unique(df['airline'], return_counts=True)\n",
    "\n",
    "dict(zip(unique, counts))"
   ]
  },
  {
   "cell_type": "code",
   "execution_count": 10,
   "metadata": {},
   "outputs": [
    {
     "data": {
      "text/plain": [
       "JetBlueNews       62\n",
       "kbosspotter       32\n",
       "_mhertz           29\n",
       "otisday           28\n",
       "throthra          27\n",
       "scoobydoo9749     21\n",
       "flemmingerin      19\n",
       "ThatJasonEaton    18\n",
       "Aero0729          18\n",
       "chagaga2013       18\n",
       "Name: name, dtype: int64"
      ]
     },
     "execution_count": 10,
     "metadata": {},
     "output_type": "execute_result"
    }
   ],
   "source": [
    "df['name'].value_counts().head(10)"
   ]
  },
  {
   "cell_type": "code",
   "execution_count": 11,
   "metadata": {},
   "outputs": [
    {
     "data": {
      "text/plain": [
       "(11223, 5)"
      ]
     },
     "execution_count": 11,
     "metadata": {},
     "output_type": "execute_result"
    }
   ],
   "source": [
    "df.shape"
   ]
  },
  {
   "cell_type": "code",
   "execution_count": 12,
   "metadata": {},
   "outputs": [],
   "source": [
    "df.to_csv('tweets_formatted.csv')  "
   ]
  },
  {
   "attachments": {},
   "cell_type": "markdown",
   "metadata": {},
   "source": [
    "# Reddit"
   ]
  },
  {
   "cell_type": "code",
   "execution_count": 13,
   "metadata": {},
   "outputs": [
    {
     "name": "stdout",
     "output_type": "stream",
     "text": [
      "(9000, 122)\n"
     ]
    },
    {
     "name": "stderr",
     "output_type": "stream",
     "text": [
      "c:\\Users\\gakoo\\AppData\\Local\\Programs\\Python\\Python39\\lib\\site-packages\\IPython\\core\\interactiveshell.py:3398: DtypeWarning: Columns (8,14,17,22,23,25,26,29,31,32,42,45,48,49,50,51,54,55,56,57,58,60,61,63,67,71,72,73,77,84,88,90,91,97,107,111,112,113,115,116) have mixed types.Specify dtype option on import or set low_memory=False.\n",
      "  exec(code_obj, self.user_global_ns, self.user_ns)\n"
     ]
    },
    {
     "data": {
      "text/html": [
       "<div>\n",
       "<style scoped>\n",
       "    .dataframe tbody tr th:only-of-type {\n",
       "        vertical-align: middle;\n",
       "    }\n",
       "\n",
       "    .dataframe tbody tr th {\n",
       "        vertical-align: top;\n",
       "    }\n",
       "\n",
       "    .dataframe thead th {\n",
       "        text-align: right;\n",
       "    }\n",
       "</style>\n",
       "<table border=\"1\" class=\"dataframe\">\n",
       "  <thead>\n",
       "    <tr style=\"text-align: right;\">\n",
       "      <th></th>\n",
       "      <th>Unnamed: 0</th>\n",
       "      <th>subreddit</th>\n",
       "      <th>selftext</th>\n",
       "      <th>author_fullname</th>\n",
       "      <th>gilded</th>\n",
       "      <th>title</th>\n",
       "      <th>link_flair_richtext</th>\n",
       "      <th>subreddit_name_prefixed</th>\n",
       "      <th>hidden</th>\n",
       "      <th>pwls</th>\n",
       "      <th>...</th>\n",
       "      <th>saved</th>\n",
       "      <th>selftext_html</th>\n",
       "      <th>ups</th>\n",
       "      <th>user_reports</th>\n",
       "      <th>brand_safe</th>\n",
       "      <th>approved_at_utc</th>\n",
       "      <th>banned_at_utc</th>\n",
       "      <th>from_kind</th>\n",
       "      <th>from</th>\n",
       "      <th>from_id</th>\n",
       "    </tr>\n",
       "  </thead>\n",
       "  <tbody>\n",
       "    <tr>\n",
       "      <th>0</th>\n",
       "      <td>0</td>\n",
       "      <td>americanairlines</td>\n",
       "      <td>My husband and I have 5 kids. We started the t...</td>\n",
       "      <td>t2_7zlrw6ih</td>\n",
       "      <td>0</td>\n",
       "      <td>Anyone enjoy figuring out best points scheme f...</td>\n",
       "      <td>[]</td>\n",
       "      <td>r/americanairlines</td>\n",
       "      <td>False</td>\n",
       "      <td>6.0</td>\n",
       "      <td>...</td>\n",
       "      <td>NaN</td>\n",
       "      <td>NaN</td>\n",
       "      <td>NaN</td>\n",
       "      <td>NaN</td>\n",
       "      <td>NaN</td>\n",
       "      <td>NaN</td>\n",
       "      <td>NaN</td>\n",
       "      <td>NaN</td>\n",
       "      <td>NaN</td>\n",
       "      <td>NaN</td>\n",
       "    </tr>\n",
       "    <tr>\n",
       "      <th>1</th>\n",
       "      <td>1</td>\n",
       "      <td>americanairlines</td>\n",
       "      <td>I’m new to the status thing, and I just reache...</td>\n",
       "      <td>t2_52b5349m</td>\n",
       "      <td>0</td>\n",
       "      <td>Main cabin Vs basic economy for upgrades</td>\n",
       "      <td>[]</td>\n",
       "      <td>r/americanairlines</td>\n",
       "      <td>False</td>\n",
       "      <td>6.0</td>\n",
       "      <td>...</td>\n",
       "      <td>NaN</td>\n",
       "      <td>NaN</td>\n",
       "      <td>NaN</td>\n",
       "      <td>NaN</td>\n",
       "      <td>NaN</td>\n",
       "      <td>NaN</td>\n",
       "      <td>NaN</td>\n",
       "      <td>NaN</td>\n",
       "      <td>NaN</td>\n",
       "      <td>NaN</td>\n",
       "    </tr>\n",
       "    <tr>\n",
       "      <th>2</th>\n",
       "      <td>2</td>\n",
       "      <td>americanairlines</td>\n",
       "      <td>NaN</td>\n",
       "      <td>t2_dbp8phj</td>\n",
       "      <td>0</td>\n",
       "      <td>Domestic First meal comparison: Same menu item...</td>\n",
       "      <td>[]</td>\n",
       "      <td>r/americanairlines</td>\n",
       "      <td>False</td>\n",
       "      <td>6.0</td>\n",
       "      <td>...</td>\n",
       "      <td>NaN</td>\n",
       "      <td>NaN</td>\n",
       "      <td>NaN</td>\n",
       "      <td>NaN</td>\n",
       "      <td>NaN</td>\n",
       "      <td>NaN</td>\n",
       "      <td>NaN</td>\n",
       "      <td>NaN</td>\n",
       "      <td>NaN</td>\n",
       "      <td>NaN</td>\n",
       "    </tr>\n",
       "    <tr>\n",
       "      <th>3</th>\n",
       "      <td>3</td>\n",
       "      <td>americanairlines</td>\n",
       "      <td>The site lets corporate travelers select seats...</td>\n",
       "      <td>t2_tqegvg14</td>\n",
       "      <td>0</td>\n",
       "      <td>Seatselect.AA.com is gone?</td>\n",
       "      <td>[]</td>\n",
       "      <td>r/americanairlines</td>\n",
       "      <td>False</td>\n",
       "      <td>6.0</td>\n",
       "      <td>...</td>\n",
       "      <td>NaN</td>\n",
       "      <td>NaN</td>\n",
       "      <td>NaN</td>\n",
       "      <td>NaN</td>\n",
       "      <td>NaN</td>\n",
       "      <td>NaN</td>\n",
       "      <td>NaN</td>\n",
       "      <td>NaN</td>\n",
       "      <td>NaN</td>\n",
       "      <td>NaN</td>\n",
       "    </tr>\n",
       "    <tr>\n",
       "      <th>4</th>\n",
       "      <td>4</td>\n",
       "      <td>americanairlines</td>\n",
       "      <td>Basic              Main Cabin        Business ...</td>\n",
       "      <td>t2_6b0mnmgjy</td>\n",
       "      <td>0</td>\n",
       "      <td>I wonder which Flagship Transcend Option I'm C...</td>\n",
       "      <td>[]</td>\n",
       "      <td>r/americanairlines</td>\n",
       "      <td>False</td>\n",
       "      <td>6.0</td>\n",
       "      <td>...</td>\n",
       "      <td>NaN</td>\n",
       "      <td>NaN</td>\n",
       "      <td>NaN</td>\n",
       "      <td>NaN</td>\n",
       "      <td>NaN</td>\n",
       "      <td>NaN</td>\n",
       "      <td>NaN</td>\n",
       "      <td>NaN</td>\n",
       "      <td>NaN</td>\n",
       "      <td>NaN</td>\n",
       "    </tr>\n",
       "  </tbody>\n",
       "</table>\n",
       "<p>5 rows × 122 columns</p>\n",
       "</div>"
      ],
      "text/plain": [
       "   Unnamed: 0         subreddit  \\\n",
       "0           0  americanairlines   \n",
       "1           1  americanairlines   \n",
       "2           2  americanairlines   \n",
       "3           3  americanairlines   \n",
       "4           4  americanairlines   \n",
       "\n",
       "                                            selftext author_fullname  gilded  \\\n",
       "0  My husband and I have 5 kids. We started the t...     t2_7zlrw6ih       0   \n",
       "1  I’m new to the status thing, and I just reache...     t2_52b5349m       0   \n",
       "2                                                NaN      t2_dbp8phj       0   \n",
       "3  The site lets corporate travelers select seats...     t2_tqegvg14       0   \n",
       "4  Basic              Main Cabin        Business ...    t2_6b0mnmgjy       0   \n",
       "\n",
       "                                               title link_flair_richtext  \\\n",
       "0  Anyone enjoy figuring out best points scheme f...                  []   \n",
       "1           Main cabin Vs basic economy for upgrades                  []   \n",
       "2  Domestic First meal comparison: Same menu item...                  []   \n",
       "3                         Seatselect.AA.com is gone?                  []   \n",
       "4  I wonder which Flagship Transcend Option I'm C...                  []   \n",
       "\n",
       "  subreddit_name_prefixed hidden  pwls  ...  saved  selftext_html  ups  \\\n",
       "0      r/americanairlines  False   6.0  ...    NaN            NaN  NaN   \n",
       "1      r/americanairlines  False   6.0  ...    NaN            NaN  NaN   \n",
       "2      r/americanairlines  False   6.0  ...    NaN            NaN  NaN   \n",
       "3      r/americanairlines  False   6.0  ...    NaN            NaN  NaN   \n",
       "4      r/americanairlines  False   6.0  ...    NaN            NaN  NaN   \n",
       "\n",
       "  user_reports brand_safe approved_at_utc  banned_at_utc from_kind from  \\\n",
       "0          NaN        NaN             NaN            NaN       NaN  NaN   \n",
       "1          NaN        NaN             NaN            NaN       NaN  NaN   \n",
       "2          NaN        NaN             NaN            NaN       NaN  NaN   \n",
       "3          NaN        NaN             NaN            NaN       NaN  NaN   \n",
       "4          NaN        NaN             NaN            NaN       NaN  NaN   \n",
       "\n",
       "   from_id  \n",
       "0      NaN  \n",
       "1      NaN  \n",
       "2      NaN  \n",
       "3      NaN  \n",
       "4      NaN  \n",
       "\n",
       "[5 rows x 122 columns]"
      ]
     },
     "execution_count": 13,
     "metadata": {},
     "output_type": "execute_result"
    }
   ],
   "source": [
    "df = pd.read_csv('americanairlines.csv')\n",
    "print(df.shape)\n",
    "df.head()"
   ]
  },
  {
   "cell_type": "code",
   "execution_count": 14,
   "metadata": {},
   "outputs": [
    {
     "name": "stdout",
     "output_type": "stream",
     "text": [
      "Unnamed: 0  :  3\n",
      "subreddit  :  americanairlines\n",
      "selftext  :  The site lets corporate travelers select seats. It shows a 404 today. Anyone else experience this? Is there a new site to replace it?\n",
      "author_fullname  :  t2_tqegvg14\n",
      "gilded  :  0\n",
      "title  :  Seatselect.AA.com is gone?\n",
      "link_flair_richtext  :  []\n",
      "subreddit_name_prefixed  :  r/americanairlines\n",
      "hidden  :  False\n",
      "pwls  :  6.0\n",
      "link_flair_css_class  :  nan\n",
      "thumbnail_height  :  nan\n",
      "top_awarded_type  :  nan\n",
      "hide_score  :  True\n",
      "quarantine  :  False\n",
      "link_flair_text_color  :  dark\n",
      "upvote_ratio  :  1.0\n",
      "author_flair_background_color  :  nan\n",
      "subreddit_type  :  public\n",
      "total_awards_received  :  0.0\n",
      "media_embed  :  {}\n",
      "thumbnail_width  :  nan\n",
      "author_flair_template_id  :  nan\n",
      "is_original_content  :  False\n",
      "secure_media  :  nan\n",
      "is_reddit_media_domain  :  False\n",
      "is_meta  :  False\n",
      "category  :  nan\n",
      "secure_media_embed  :  {}\n",
      "link_flair_text  :  Question\n",
      "score  :  1\n",
      "is_created_from_ads_ui  :  False\n",
      "author_premium  :  False\n",
      "thumbnail  :  self\n",
      "edited  :  False\n",
      "author_flair_css_class  :  nan\n",
      "author_flair_richtext  :  []\n",
      "gildings  :  {}\n",
      "content_categories  :  nan\n",
      "is_self  :  True\n",
      "link_flair_type  :  text\n",
      "wls  :  6.0\n",
      "removed_by_category  :  nan\n",
      "author_flair_type  :  text\n",
      "domain  :  self.americanairlines\n",
      "allow_live_comments  :  False\n",
      "suggested_sort  :  nan\n",
      "view_count  :  nan\n",
      "archived  :  False\n",
      "no_follow  :  True\n",
      "is_crosspostable  :  True\n",
      "pinned  :  False\n",
      "over_18  :  False\n",
      "all_awardings  :  []\n",
      "awarders  :  []\n",
      "media_only  :  False\n",
      "link_flair_template_id  :  f76e131e-cb13-11ec-aea9-a685e51d781a\n",
      "can_gild  :  True\n",
      "spoiler  :  False\n",
      "locked  :  False\n",
      "author_flair_text  :  nan\n",
      "treatment_tags  :  []\n",
      "removed_by  :  nan\n",
      "distinguished  :  nan\n",
      "subreddit_id  :  t5_2zcaf\n",
      "link_flair_background_color  :  nan\n",
      "id  :  12vfjhk\n",
      "is_robot_indexable  :  True\n",
      "author  :  essentially_no\n",
      "discussion_type  :  nan\n",
      "num_comments  :  0\n",
      "send_replies  :  True\n",
      "whitelist_status  :  all_ads\n",
      "contest_mode  :  False\n",
      "author_patreon_flair  :  False\n",
      "author_flair_text_color  :  nan\n",
      "permalink  :  /r/americanairlines/comments/12vfjhk/seatselectaacom_is_gone/\n",
      "parent_whitelist_status  :  all_ads\n",
      "stickied  :  False\n",
      "url  :  https://www.reddit.com/r/americanairlines/comments/12vfjhk/seatselectaacom_is_gone/\n",
      "subreddit_subscribers  :  21774.0\n",
      "created_utc  :  1682189765\n",
      "num_crossposts  :  0.0\n",
      "media  :  nan\n",
      "is_video  :  False\n",
      "retrieved_utc  :  1682189779\n",
      "updated_utc  :  1682189780\n",
      "utc_datetime_str  :  2023-04-22 18:56:05\n",
      "is_gallery  :  nan\n",
      "media_metadata  :  nan\n",
      "gallery_data  :  nan\n",
      "url_overridden_by_dest  :  nan\n",
      "post_hint  :  nan\n",
      "preview  :  nan\n",
      "crosspost_parent_list  :  nan\n",
      "crosspost_parent  :  nan\n",
      "author_cakeday  :  nan\n",
      "poll_data  :  nan\n",
      "edited_on  :  nan\n",
      "author_created_utc  :  nan\n",
      "retrieved_on  :  nan\n",
      "call_to_action  :  nan\n",
      "removal_reason  :  nan\n",
      "approved_by  :  nan\n",
      "created  :  nan\n",
      "downs  :  nan\n",
      "likes  :  nan\n",
      "mod_reports  :  nan\n",
      "num_reports  :  nan\n",
      "post_categories  :  nan\n",
      "report_reasons  :  nan\n",
      "rte_mode  :  nan\n",
      "saved  :  nan\n",
      "selftext_html  :  nan\n",
      "ups  :  nan\n",
      "user_reports  :  nan\n",
      "brand_safe  :  nan\n",
      "approved_at_utc  :  nan\n",
      "banned_at_utc  :  nan\n",
      "from_kind  :  nan\n",
      "from  :  nan\n",
      "from_id  :  nan\n"
     ]
    }
   ],
   "source": [
    "for i in range(len(df.columns)):\n",
    "    print(df.columns[i], ' : ', df.values[3][i])"
   ]
  },
  {
   "cell_type": "code",
   "execution_count": 15,
   "metadata": {},
   "outputs": [
    {
     "name": "stdout",
     "output_type": "stream",
     "text": [
      "subreddit  :  americanairlines\n",
      "selftext  :  Do you find it annoying when people block the boarding area during boarding.  They announce the group numbers they are currently boarding but these idiots that have later boarding groups have to stand by the gate making it awkward AF if you need to navigate past them.  Just sit the F down until your group is called.\n",
      "title  :  Blocking the boarding area\n",
      "author  :  vw2xb\n",
      "utc_datetime_str  :  2023-04-21 23:48:01\n"
     ]
    }
   ],
   "source": [
    "columns = ['subreddit', 'selftext', 'title', 'author', 'utc_datetime_str']\n",
    "for i in range(len(columns)):\n",
    "    print(columns[i], ' : ', df[columns[i]].values[15])"
   ]
  },
  {
   "cell_type": "code",
   "execution_count": 16,
   "metadata": {},
   "outputs": [
    {
     "data": {
      "text/html": [
       "<div>\n",
       "<style scoped>\n",
       "    .dataframe tbody tr th:only-of-type {\n",
       "        vertical-align: middle;\n",
       "    }\n",
       "\n",
       "    .dataframe tbody tr th {\n",
       "        vertical-align: top;\n",
       "    }\n",
       "\n",
       "    .dataframe thead th {\n",
       "        text-align: right;\n",
       "    }\n",
       "</style>\n",
       "<table border=\"1\" class=\"dataframe\">\n",
       "  <thead>\n",
       "    <tr style=\"text-align: right;\">\n",
       "      <th></th>\n",
       "      <th>subreddit</th>\n",
       "      <th>selftext</th>\n",
       "      <th>title</th>\n",
       "      <th>author</th>\n",
       "      <th>utc_datetime_str</th>\n",
       "    </tr>\n",
       "  </thead>\n",
       "  <tbody>\n",
       "    <tr>\n",
       "      <th>0</th>\n",
       "      <td>americanairlines</td>\n",
       "      <td>My husband and I have 5 kids. We started the t...</td>\n",
       "      <td>Anyone enjoy figuring out best points scheme f...</td>\n",
       "      <td>blackjellybeansrule</td>\n",
       "      <td>2023-04-22 20:58:17</td>\n",
       "    </tr>\n",
       "  </tbody>\n",
       "</table>\n",
       "</div>"
      ],
      "text/plain": [
       "          subreddit                                           selftext  \\\n",
       "0  americanairlines  My husband and I have 5 kids. We started the t...   \n",
       "\n",
       "                                               title               author  \\\n",
       "0  Anyone enjoy figuring out best points scheme f...  blackjellybeansrule   \n",
       "\n",
       "      utc_datetime_str  \n",
       "0  2023-04-22 20:58:17  "
      ]
     },
     "execution_count": 16,
     "metadata": {},
     "output_type": "execute_result"
    }
   ],
   "source": [
    "# remove features that are not in the list columns\n",
    "df = df.drop([col for col in df.columns if col not in columns], axis=1)\n",
    "df.head(1)"
   ]
  },
  {
   "cell_type": "code",
   "execution_count": 17,
   "metadata": {},
   "outputs": [
    {
     "data": {
      "text/html": [
       "<div>\n",
       "<style scoped>\n",
       "    .dataframe tbody tr th:only-of-type {\n",
       "        vertical-align: middle;\n",
       "    }\n",
       "\n",
       "    .dataframe tbody tr th {\n",
       "        vertical-align: top;\n",
       "    }\n",
       "\n",
       "    .dataframe thead th {\n",
       "        text-align: right;\n",
       "    }\n",
       "</style>\n",
       "<table border=\"1\" class=\"dataframe\">\n",
       "  <thead>\n",
       "    <tr style=\"text-align: right;\">\n",
       "      <th></th>\n",
       "      <th>subreddit</th>\n",
       "      <th>author</th>\n",
       "      <th>utc_datetime_str</th>\n",
       "      <th>text</th>\n",
       "    </tr>\n",
       "  </thead>\n",
       "  <tbody>\n",
       "    <tr>\n",
       "      <th>0</th>\n",
       "      <td>americanairlines</td>\n",
       "      <td>blackjellybeansrule</td>\n",
       "      <td>2023-04-22 20:58:17</td>\n",
       "      <td>Anyone enjoy figuring out best points scheme f...</td>\n",
       "    </tr>\n",
       "  </tbody>\n",
       "</table>\n",
       "</div>"
      ],
      "text/plain": [
       "          subreddit               author     utc_datetime_str  \\\n",
       "0  americanairlines  blackjellybeansrule  2023-04-22 20:58:17   \n",
       "\n",
       "                                                text  \n",
       "0  Anyone enjoy figuring out best points scheme f...  "
      ]
     },
     "execution_count": 17,
     "metadata": {},
     "output_type": "execute_result"
    }
   ],
   "source": [
    "# merge selftext and title even if selftext is empty\n",
    "df['text'] = df['title'].fillna('') + ' ' + df['selftext'].fillna('')\n",
    "df = df.drop(['selftext', 'title'], axis=1)\n",
    "df.head(1)"
   ]
  },
  {
   "cell_type": "code",
   "execution_count": 18,
   "metadata": {},
   "outputs": [
    {
     "data": {
      "text/plain": [
       "(9000, 4)"
      ]
     },
     "execution_count": 18,
     "metadata": {},
     "output_type": "execute_result"
    }
   ],
   "source": [
    "df.shape"
   ]
  },
  {
   "cell_type": "code",
   "execution_count": 19,
   "metadata": {},
   "outputs": [
    {
     "data": {
      "text/plain": [
       "(0    2023-04-22\n",
       " Name: date, dtype: object,\n",
       " '2023-04-22',\n",
       " '2016-05-20')"
      ]
     },
     "execution_count": 19,
     "metadata": {},
     "output_type": "execute_result"
    }
   ],
   "source": [
    "df[\"date\"] = pd.to_datetime(df[\"utc_datetime_str\"])\n",
    "df[\"date\"] = df[\"date\"].dt.strftime('%Y-%m-%d')\n",
    "df = df.drop(['utc_datetime_str'], axis=1)\n",
    "\n",
    "df[\"date\"].head(1), df[\"date\"].max(), df[\"date\"].min()"
   ]
  },
  {
   "cell_type": "code",
   "execution_count": 20,
   "metadata": {},
   "outputs": [
    {
     "data": {
      "text/html": [
       "<div>\n",
       "<style scoped>\n",
       "    .dataframe tbody tr th:only-of-type {\n",
       "        vertical-align: middle;\n",
       "    }\n",
       "\n",
       "    .dataframe tbody tr th {\n",
       "        vertical-align: top;\n",
       "    }\n",
       "\n",
       "    .dataframe thead th {\n",
       "        text-align: right;\n",
       "    }\n",
       "</style>\n",
       "<table border=\"1\" class=\"dataframe\">\n",
       "  <thead>\n",
       "    <tr style=\"text-align: right;\">\n",
       "      <th></th>\n",
       "      <th>airline</th>\n",
       "      <th>name</th>\n",
       "      <th>text</th>\n",
       "      <th>date</th>\n",
       "    </tr>\n",
       "  </thead>\n",
       "  <tbody>\n",
       "    <tr>\n",
       "      <th>0</th>\n",
       "      <td>americanairlines</td>\n",
       "      <td>blackjellybeansrule</td>\n",
       "      <td>Anyone enjoy figuring out best points scheme f...</td>\n",
       "      <td>2023-04-22</td>\n",
       "    </tr>\n",
       "  </tbody>\n",
       "</table>\n",
       "</div>"
      ],
      "text/plain": [
       "            airline                 name  \\\n",
       "0  americanairlines  blackjellybeansrule   \n",
       "\n",
       "                                                text        date  \n",
       "0  Anyone enjoy figuring out best points scheme f...  2023-04-22  "
      ]
     },
     "execution_count": 20,
     "metadata": {},
     "output_type": "execute_result"
    }
   ],
   "source": [
    "# rename columns name\n",
    "df = df.rename(columns={'subreddit': 'airline', 'author': 'name'})\n",
    "df.head(1)"
   ]
  },
  {
   "cell_type": "code",
   "execution_count": 21,
   "metadata": {},
   "outputs": [
    {
     "data": {
      "text/plain": [
       "[deleted]               1309\n",
       "cocallaw                  45\n",
       "JonathanDP81              38\n",
       "ConsistentDriver9520      36\n",
       "palkiajack                25\n",
       "aboland96                 23\n",
       "18809867070               21\n",
       "My_fight                  21\n",
       "Final-Craft-6992          19\n",
       "cjasonac                  18\n",
       "Name: name, dtype: int64"
      ]
     },
     "execution_count": 21,
     "metadata": {},
     "output_type": "execute_result"
    }
   ],
   "source": [
    "df['name'].value_counts().head(10)"
   ]
  },
  {
   "cell_type": "code",
   "execution_count": 22,
   "metadata": {},
   "outputs": [
    {
     "data": {
      "text/html": [
       "<div>\n",
       "<style scoped>\n",
       "    .dataframe tbody tr th:only-of-type {\n",
       "        vertical-align: middle;\n",
       "    }\n",
       "\n",
       "    .dataframe tbody tr th {\n",
       "        vertical-align: top;\n",
       "    }\n",
       "\n",
       "    .dataframe thead th {\n",
       "        text-align: right;\n",
       "    }\n",
       "</style>\n",
       "<table border=\"1\" class=\"dataframe\">\n",
       "  <thead>\n",
       "    <tr style=\"text-align: right;\">\n",
       "      <th></th>\n",
       "      <th>airline</th>\n",
       "      <th>name</th>\n",
       "      <th>text</th>\n",
       "      <th>date</th>\n",
       "    </tr>\n",
       "  </thead>\n",
       "  <tbody>\n",
       "    <tr>\n",
       "      <th>720</th>\n",
       "      <td>americanairlines</td>\n",
       "      <td>[deleted]</td>\n",
       "      <td>Hey y’all, I just logged in and I’m having a H...</td>\n",
       "      <td>2023-03-01</td>\n",
       "    </tr>\n",
       "    <tr>\n",
       "      <th>735</th>\n",
       "      <td>americanairlines</td>\n",
       "      <td>[deleted]</td>\n",
       "      <td>I’ve flown.. a year that’s full… and each and ...</td>\n",
       "      <td>2023-03-01</td>\n",
       "    </tr>\n",
       "    <tr>\n",
       "      <th>739</th>\n",
       "      <td>americanairlines</td>\n",
       "      <td>[deleted]</td>\n",
       "      <td>JAL lounge @HND terminal 3 [deleted]</td>\n",
       "      <td>2023-03-01</td>\n",
       "    </tr>\n",
       "    <tr>\n",
       "      <th>1015</th>\n",
       "      <td>americanairlines</td>\n",
       "      <td>[deleted]</td>\n",
       "      <td>What’s the Muslim meal on American Airlines li...</td>\n",
       "      <td>2023-02-11</td>\n",
       "    </tr>\n",
       "    <tr>\n",
       "      <th>1595</th>\n",
       "      <td>americanairlines</td>\n",
       "      <td>[deleted]</td>\n",
       "      <td>Any website where you can tell *why* a plane w...</td>\n",
       "      <td>2022-12-28</td>\n",
       "    </tr>\n",
       "    <tr>\n",
       "      <th>1637</th>\n",
       "      <td>americanairlines</td>\n",
       "      <td>[deleted]</td>\n",
       "      <td>Does status cover next year too? [deleted]</td>\n",
       "      <td>2022-12-24</td>\n",
       "    </tr>\n",
       "    <tr>\n",
       "      <th>1641</th>\n",
       "      <td>americanairlines</td>\n",
       "      <td>[deleted]</td>\n",
       "      <td>Separated on a 10+ hour flight [deleted]</td>\n",
       "      <td>2022-12-24</td>\n",
       "    </tr>\n",
       "    <tr>\n",
       "      <th>1646</th>\n",
       "      <td>americanairlines</td>\n",
       "      <td>[deleted]</td>\n",
       "      <td>Not seeing my family for Christmas [deleted]</td>\n",
       "      <td>2022-12-24</td>\n",
       "    </tr>\n",
       "    <tr>\n",
       "      <th>1655</th>\n",
       "      <td>americanairlines</td>\n",
       "      <td>[deleted]</td>\n",
       "      <td>OKC to NRT - Need to get separate ticket after...</td>\n",
       "      <td>2022-12-22</td>\n",
       "    </tr>\n",
       "    <tr>\n",
       "      <th>1671</th>\n",
       "      <td>americanairlines</td>\n",
       "      <td>[deleted]</td>\n",
       "      <td>Can I fly with two infants on AA? [deleted]</td>\n",
       "      <td>2022-12-22</td>\n",
       "    </tr>\n",
       "  </tbody>\n",
       "</table>\n",
       "</div>"
      ],
      "text/plain": [
       "               airline       name  \\\n",
       "720   americanairlines  [deleted]   \n",
       "735   americanairlines  [deleted]   \n",
       "739   americanairlines  [deleted]   \n",
       "1015  americanairlines  [deleted]   \n",
       "1595  americanairlines  [deleted]   \n",
       "1637  americanairlines  [deleted]   \n",
       "1641  americanairlines  [deleted]   \n",
       "1646  americanairlines  [deleted]   \n",
       "1655  americanairlines  [deleted]   \n",
       "1671  americanairlines  [deleted]   \n",
       "\n",
       "                                                   text        date  \n",
       "720   Hey y’all, I just logged in and I’m having a H...  2023-03-01  \n",
       "735   I’ve flown.. a year that’s full… and each and ...  2023-03-01  \n",
       "739                JAL lounge @HND terminal 3 [deleted]  2023-03-01  \n",
       "1015  What’s the Muslim meal on American Airlines li...  2023-02-11  \n",
       "1595  Any website where you can tell *why* a plane w...  2022-12-28  \n",
       "1637         Does status cover next year too? [deleted]  2022-12-24  \n",
       "1641           Separated on a 10+ hour flight [deleted]  2022-12-24  \n",
       "1646       Not seeing my family for Christmas [deleted]  2022-12-24  \n",
       "1655  OKC to NRT - Need to get separate ticket after...  2022-12-22  \n",
       "1671        Can I fly with two infants on AA? [deleted]  2022-12-22  "
      ]
     },
     "execution_count": 22,
     "metadata": {},
     "output_type": "execute_result"
    }
   ],
   "source": [
    "df[df['name'] == '[deleted]'].head(10)"
   ]
  },
  {
   "attachments": {},
   "cell_type": "markdown",
   "metadata": {},
   "source": [
    "# now combine all the dataframes into one"
   ]
  },
  {
   "cell_type": "code",
   "execution_count": 23,
   "metadata": {},
   "outputs": [
    {
     "name": "stderr",
     "output_type": "stream",
     "text": [
      "c:\\Users\\gakoo\\AppData\\Local\\Programs\\Python\\Python39\\lib\\site-packages\\IPython\\core\\interactiveshell.py:3398: DtypeWarning: Columns (8,14,17,22,23,25,26,29,31,32,42,45,48,49,50,51,54,55,56,57,58,60,61,63,67,71,72,73,77,84,88,90,91,97,107,111,112,113,115,116) have mixed types.Specify dtype option on import or set low_memory=False.\n",
      "  exec(code_obj, self.user_global_ns, self.user_ns)\n"
     ]
    },
    {
     "name": "stdout",
     "output_type": "stream",
     "text": [
      "================================================== americanairlines.csv ==================================================\n",
      "shape : (9000, 4)\n",
      "top 3 account : [deleted]       1309\n",
      "cocallaw          45\n",
      "JonathanDP81      38\n",
      "Name: name, dtype: int64\n",
      "first post : 2016-05-20\n",
      "last post : 2023-04-22\n"
     ]
    },
    {
     "name": "stderr",
     "output_type": "stream",
     "text": [
      "c:\\Users\\gakoo\\AppData\\Local\\Programs\\Python\\Python39\\lib\\site-packages\\IPython\\core\\interactiveshell.py:3398: DtypeWarning: Columns (46,63) have mixed types.Specify dtype option on import or set low_memory=False.\n",
      "  exec(code_obj, self.user_global_ns, self.user_ns)\n"
     ]
    },
    {
     "name": "stdout",
     "output_type": "stream",
     "text": [
      "================================================== delta.csv ==================================================\n",
      "shape : (9029, 4)\n",
      "top 3 account : [deleted]    506\n",
      "A350Flier     32\n",
      "Idealmonk     26\n",
      "Name: name, dtype: int64\n",
      "first post : 2022-07-07\n",
      "last post : 2023-04-22\n"
     ]
    },
    {
     "name": "stderr",
     "output_type": "stream",
     "text": [
      "c:\\Users\\gakoo\\AppData\\Local\\Programs\\Python\\Python39\\lib\\site-packages\\IPython\\core\\interactiveshell.py:3398: DtypeWarning: Columns (14,23,26,31,32,42,45,46,48,49,54,55,57,61,67,71,89,91,93,97,107,111,112,113,115,116,117) have mixed types.Specify dtype option on import or set low_memory=False.\n",
      "  exec(code_obj, self.user_global_ns, self.user_ns)\n"
     ]
    },
    {
     "name": "stdout",
     "output_type": "stream",
     "text": [
      "================================================== united.csv ==================================================\n",
      "shape : (9000, 4)\n",
      "top 3 account : [deleted]       1142\n",
      "doc_ocho          66\n",
      "Seniorhusky1      37\n",
      "Name: name, dtype: int64\n",
      "first post : 2017-12-06\n",
      "last post : 2023-04-21\n",
      "================================================== final csv ==================================================\n",
      "final shape : (27029, 4)\n",
      "first post : 2016-05-20\n",
      "last post : 2023-04-22\n",
      "            airline                 name  \\\n",
      "0  americanairlines  blackjellybeansrule   \n",
      "1  americanairlines         CriminalBoss   \n",
      "2  americanairlines    LadyEmeraldDeVere   \n",
      "3  americanairlines       essentially_no   \n",
      "4  americanairlines             tyster30   \n",
      "\n",
      "                                                text        date  \n",
      "0  Anyone enjoy figuring out best points scheme f...  2023-04-22  \n",
      "1  Main cabin Vs basic economy for upgrades I’m n...  2023-04-22  \n",
      "2  Domestic First meal comparison: Same menu item...  2023-04-22  \n",
      "3  Seatselect.AA.com is gone? The site lets corpo...  2023-04-22  \n",
      "4  I wonder which Flagship Transcend Option I'm C...  2023-04-22  \n"
     ]
    }
   ],
   "source": [
    "all_dfs = []\n",
    "csv_names = ['americanairlines.csv', 'delta.csv', 'united.csv'] # add southwest.csv\n",
    "for csv_name in csv_names:\n",
    "    df = pd.read_csv(csv_name)\n",
    "    columns = ['subreddit', 'selftext', 'title', 'author', 'utc_datetime_str']\n",
    "    df = df.drop([col for col in df.columns if col not in columns], axis=1)\n",
    "    df['text'] = df['title'].fillna('') + ' ' + df['selftext'].fillna('')\n",
    "    df = df.drop(['selftext', 'title'], axis=1)\n",
    "    df[\"date\"] = pd.to_datetime(df[\"utc_datetime_str\"])\n",
    "    df[\"date\"] = df[\"date\"].dt.strftime('%Y-%m-%d')\n",
    "    df = df.drop(['utc_datetime_str'], axis=1)\n",
    "    df = df.rename(columns={'subreddit': 'airline', 'author': 'name'})\n",
    "    all_dfs.append(df)\n",
    "    print('='*50, csv_name, '='*50)\n",
    "    print('shape :', df.shape)\n",
    "    print('top 3 account :', df['name'].value_counts().head(3))\n",
    "    print('first post :', df[\"date\"].min())\n",
    "    print('last post :', df[\"date\"].max())\n",
    "\n",
    "\n",
    "print('='*50, 'final csv', '='*50)\n",
    "df = pd.concat(all_dfs)\n",
    "#df['text'] = df['text'].apply(lambda s: emoji.replace_emoji(s, ''))\n",
    "print('final shape :', df.shape)\n",
    "print('first post :', df[\"date\"].min())\n",
    "print('last post :', df[\"date\"].max())\n",
    "print(df.head())\n",
    "\n",
    "df.to_csv('reddit.csv')"
   ]
  }
 ],
 "metadata": {
  "kernelspec": {
   "display_name": "Python 3",
   "language": "python",
   "name": "python3"
  },
  "language_info": {
   "codemirror_mode": {
    "name": "ipython",
    "version": 3
   },
   "file_extension": ".py",
   "mimetype": "text/x-python",
   "name": "python",
   "nbconvert_exporter": "python",
   "pygments_lexer": "ipython3",
   "version": "3.9.8"
  },
  "orig_nbformat": 4
 },
 "nbformat": 4,
 "nbformat_minor": 2
}
